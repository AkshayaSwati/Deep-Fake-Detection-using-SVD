{
 "cells": [
  {
   "cell_type": "markdown",
   "metadata": {},
   "source": [
    "# 🔍 Deepfake Detection using SVD\n",
    "\n",
    "This notebook demonstrates how Singular Value Decomposition (SVD) helps detect potential deepfake images by analyzing singular value drop-off patterns."
   ]
  },
  {
   "cell_type": "code",
   "execution_count": null,
   "metadata": {},
   "outputs": [],
   "source": [
    "# Install required libraries (only once per environment)\n",
    "!pip install opencv-python numpy matplotlib"
   ]
  },
  {
   "cell_type": "code",
   "execution_count": null,
   "metadata": {},
   "outputs": [],
   "source": [
    "import cv2\n",
    "import numpy as np\n",
    "import matplotlib.pyplot as plt\n",
    "\n",
    "def load_image(image_path):\n",
    "    img = cv2.imread(image_path, cv2.IMREAD_GRAYSCALE)\n",
    "    if img is None:\n",
    "        raise ValueError(\"Image not found.\")\n",
    "    return cv2.resize(img, (128, 128))"
   ]
  },
  {
   "cell_type": "code",
   "execution_count": null,
   "metadata": {},
   "outputs": [],
   "source": [
    "# Choose input image\n",
    "img_path = '../images/real_face.jpg'  # or '../images/deepfake_face.jpg'\n",
    "img = load_image(img_path)"
   ]
  },
  {
   "cell_type": "code",
   "execution_count": null,
   "metadata": {},
   "outputs": [],
   "source": [
    "# Perform SVD\n",
    "U, S, VT = np.linalg.svd(img, full_matrices=False)\n",
    "\n",
    "# Plot spectrum\n",
    "plt.figure(figsize=(8, 4))\n",
    "plt.plot(S, 'ro-', linewidth=2)\n",
    "plt.title(f\"Singular Values Spectrum for {img_path.split('/')[-1]}\")\n",
    "plt.xlabel(\"Index\")\n",
    "plt.ylabel(\"Singular Value Magnitude\")\n",
    "plt.grid(True)\n",
    "plt.show()"
   ]
  },
  {
   "cell_type": "code",
   "execution_count": null,
   "metadata": {},
   "outputs": [],
   "source": [
    "# Simple deepfake verdict logic\n",
    "drop_ratio = S[0] / S[-1]\n",
    "print(f\"Drop Ratio: {drop_ratio:.2f}\")\n",
    "if drop_ratio < 100:\n",
    "    print(\"⚠️ Potential deepfake detected\")\n",
    "else:\n",
    "    print(\"✅ Likely authentic image\")"
   ]
  }
 ],
 "metadata": {
  "kernelspec": {
   "display_name": "Python 3",
   "language": "python",
   "name": "python3"
  },
  "language_info": {
   "name": "python",
   "version": ""
  }
 },
 "nbformat": 4,
 "nbformat_minor": 2
}

